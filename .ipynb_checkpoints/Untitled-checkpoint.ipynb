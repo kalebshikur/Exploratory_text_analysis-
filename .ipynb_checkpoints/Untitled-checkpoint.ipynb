{
 "cells": [
  {
   "cell_type": "code",
   "execution_count": 1,
   "metadata": {},
   "outputs": [],
   "source": [
    "data_in = './data_in'\n",
    "data_out = './data_out'"
   ]
  },
  {
   "cell_type": "code",
   "execution_count": 2,
   "metadata": {},
   "outputs": [],
   "source": [
    "OHCO = ['book_id', 'chap_num', 'para_num', 'sent_num', 'token_num']"
   ]
  },
  {
   "cell_type": "code",
   "execution_count": 3,
   "metadata": {},
   "outputs": [],
   "source": [
    "import pandas as pd\n",
    "import numpy as np\n",
    "from glob import glob\n",
    "import re\n",
    "import nltk"
   ]
  },
  {
   "cell_type": "code",
   "execution_count": 4,
   "metadata": {},
   "outputs": [],
   "source": [
    "from nltk.corpus import stopwords"
   ]
  },
  {
   "cell_type": "code",
   "execution_count": 5,
   "metadata": {},
   "outputs": [],
   "source": [
    "words = []\n",
    "for x in stopwords.words('english'):\n",
    "    words.append(x)"
   ]
  },
  {
   "cell_type": "code",
   "execution_count": 6,
   "metadata": {},
   "outputs": [
    {
     "data": {
      "text/plain": [
       "179"
      ]
     },
     "execution_count": 6,
     "metadata": {},
     "output_type": "execute_result"
    }
   ],
   "source": [
    "len(words)"
   ]
  },
  {
   "cell_type": "code",
   "execution_count": 7,
   "metadata": {},
   "outputs": [
    {
     "name": "stderr",
     "output_type": "stream",
     "text": [
      "[nltk_data] Downloading package punkt to\n",
      "[nltk_data]     C:\\Users\\kaleb\\AppData\\Roaming\\nltk_data...\n",
      "[nltk_data]   Package punkt is already up-to-date!\n",
      "[nltk_data] Downloading package averaged_perceptron_tagger to\n",
      "[nltk_data]     C:\\Users\\kaleb\\AppData\\Roaming\\nltk_data...\n",
      "[nltk_data]   Package averaged_perceptron_tagger is already up-to-\n",
      "[nltk_data]       date!\n",
      "[nltk_data] Downloading package stopwords to\n",
      "[nltk_data]     C:\\Users\\kaleb\\AppData\\Roaming\\nltk_data...\n",
      "[nltk_data]   Package stopwords is already up-to-date!\n",
      "[nltk_data] Downloading package tagsets to\n",
      "[nltk_data]     C:\\Users\\kaleb\\AppData\\Roaming\\nltk_data...\n",
      "[nltk_data]   Package tagsets is already up-to-date!\n"
     ]
    },
    {
     "data": {
      "text/plain": [
       "True"
      ]
     },
     "execution_count": 7,
     "metadata": {},
     "output_type": "execute_result"
    }
   ],
   "source": [
    "nltk.download('punkt')\n",
    "nltk.download('averaged_perceptron_tagger')\n",
    "nltk.download('stopwords')\n",
    "nltk.download('tagsets')"
   ]
  },
  {
   "cell_type": "code",
   "execution_count": 67,
   "metadata": {},
   "outputs": [],
   "source": [
    "book = open(data_in+'/408-0.txt', 'r', encoding='utf-8-sig').readlines()"
   ]
  },
  {
   "cell_type": "code",
   "execution_count": 87,
   "metadata": {},
   "outputs": [],
   "source": [
    "# book[55:]"
   ]
  },
  {
   "cell_type": "code",
   "execution_count": 8,
   "metadata": {},
   "outputs": [],
   "source": [
    "roman = '[IVXLCM]+'\n",
    "caps = \"[A-Z';, -]+\"\n",
    "chap_pats = {\n",
    "    23: {\n",
    "        'start_line': 76,\n",
    "        'end_line': 3736,\n",
    "        'chapter': re.compile('^\\s*CHAPTER\\s+{}\\s*$'.format(roman))\n",
    "    },\n",
    "    202: {\n",
    "        'start_line': 12240,\n",
    "        'end_line': 2556,\n",
    "        'chapter': re.compile('^\\s*CHAPTER\\s+{}\\s*$'.format(roman))\n",
    "    },\n",
    "    408: {\n",
    "        'start_line': 55,\n",
    "        'end_line': 6740,\n",
    "        'chapter': re.compile(\"^\\s*{}\\s*$\".format(roman))\n",
    "    },\n",
    "    59116: {\\\n",
    "        'start_line': 40,\n",
    "        'end_line': 15376,\n",
    "        'chapter': re.compile(\"^CHAPTER\\s+{}$\".format(roman))\n",
    "    },\n",
    "    62799: {\n",
    "        'start_line': 57,\n",
    "        'end_line': 7874,\n",
    "        'chapter': re.compile(\"^CHAPTER\\s+\\d+$\")\n",
    "    },\n",
    "    64504: {\n",
    "        'start_line': 48,\n",
    "        'end_line': 8360,\n",
    "        'chapter': re.compile(\"^Chapter\\s+\\d+$\")\n",
    "    },\n",
    "    2376: {\n",
    "        'start_line': 37,\n",
    "        'end_line': 13061,\n",
    "        'chapter': re.compile(\"^Chapter\\s+\\d+$\")\n",
    "    },\n",
    "    15041: {\n",
    "        'start_line': 43,\n",
    "        'end_line': 12654,\n",
    "        'chapter': re.compile(\"^CHAPTER\\s+\\d+$\")          \n",
    "    },\n",
    "    15265: {\n",
    "        'start_line': 193,\n",
    "        'end_line': 7501,\n",
    "        'chapter': re.compile(\"^\\s*CHAPTER\\s+{}\\.\".format(roman))\n",
    "    },\n",
    "    15359: {\n",
    "        'start_line': 187,\n",
    "        'end_line': 11470,\n",
    "        'chapter': re.compile(\"^\\s*CHAPTER\\s+{}\\s*$\".format(roman))\n",
    "    },\n",
    "    26507: {\n",
    "        'start_line': 164,\n",
    "        'end_line': 13135,\n",
    "        'chapter': re.compile(\"^\\s*CHAPTER\\s+{}\\s*$\".format(roman))\n",
    "    },\n",
    "    31839: {\n",
    "        'start_line': 52,\n",
    "        'end_line': 21743,\n",
    "        'chapter': re.compile(\"^(ETYMOLOGY|EXTRACTS|CHAPTER)\")\n",
    "    },\n",
    "    35399: {\n",
    "        'start_line': 138,\n",
    "        'end_line': 11655,\n",
    "        'volume': re.compile(\"^\\s*PART\\s+{}\\s*$\".format(roman)),\n",
    "        'chapter': re.compile(\"^\\s*CHAPTER\\s+{}\\.\\s*$\".format(roman))\n",
    "    },\n",
    "    45125: {\n",
    "        'start_line': 234,\n",
    "        'end_line': 16267,\n",
    "        'volume': re.compile(\"^\\s*BOOK\\s+{}\\.\\s*$\".format(roman)),\n",
    "        'chapter': re.compile(\"^\\s*{}\\.\\s*$\".format(roman))\n",
    "    }\n",
    "}"
   ]
  },
  {
   "cell_type": "code",
   "execution_count": null,
   "metadata": {},
   "outputs": [],
   "source": []
  },
  {
   "cell_type": "code",
   "execution_count": null,
   "metadata": {},
   "outputs": [],
   "source": []
  },
  {
   "cell_type": "code",
   "execution_count": null,
   "metadata": {},
   "outputs": [],
   "source": []
  },
  {
   "cell_type": "code",
   "execution_count": null,
   "metadata": {},
   "outputs": [],
   "source": []
  },
  {
   "cell_type": "code",
   "execution_count": null,
   "metadata": {},
   "outputs": [],
   "source": []
  },
  {
   "cell_type": "code",
   "execution_count": null,
   "metadata": {},
   "outputs": [],
   "source": []
  },
  {
   "cell_type": "code",
   "execution_count": null,
   "metadata": {},
   "outputs": [],
   "source": []
  },
  {
   "cell_type": "code",
   "execution_count": null,
   "metadata": {},
   "outputs": [],
   "source": []
  },
  {
   "cell_type": "code",
   "execution_count": null,
   "metadata": {},
   "outputs": [],
   "source": []
  },
  {
   "cell_type": "code",
   "execution_count": null,
   "metadata": {},
   "outputs": [],
   "source": []
  },
  {
   "cell_type": "code",
   "execution_count": null,
   "metadata": {},
   "outputs": [],
   "source": []
  },
  {
   "cell_type": "code",
   "execution_count": null,
   "metadata": {},
   "outputs": [],
   "source": []
  },
  {
   "cell_type": "code",
   "execution_count": null,
   "metadata": {},
   "outputs": [],
   "source": []
  },
  {
   "cell_type": "code",
   "execution_count": null,
   "metadata": {},
   "outputs": [],
   "source": []
  }
 ],
 "metadata": {
  "kernelspec": {
   "display_name": "Python 3",
   "language": "python",
   "name": "python3"
  },
  "language_info": {
   "codemirror_mode": {
    "name": "ipython",
    "version": 3
   },
   "file_extension": ".py",
   "mimetype": "text/x-python",
   "name": "python",
   "nbconvert_exporter": "python",
   "pygments_lexer": "ipython3",
   "version": "3.8.3"
  }
 },
 "nbformat": 4,
 "nbformat_minor": 4
}
